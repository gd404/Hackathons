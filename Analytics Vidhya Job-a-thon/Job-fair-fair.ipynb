{
 "cells": [
  {
   "cell_type": "code",
   "execution_count": 9,
   "metadata": {},
   "outputs": [],
   "source": [
    "import pandas as pd\n",
    "import numpy as np\n",
    "%matplotlib inline\n",
    "import matplotlib.pyplot as plt"
   ]
  },
  {
   "cell_type": "code",
   "execution_count": 15,
   "metadata": {},
   "outputs": [],
   "source": [
    "df_train = pd.read_csv('train_Df64byy.csv')"
   ]
  },
  {
   "cell_type": "code",
   "execution_count": 16,
   "metadata": {},
   "outputs": [],
   "source": [
    "\n",
    "y = df_train['Response']\n",
    "df_train.drop(['ID','Lower_Age','Is_Spouse','Reco_Insurance_Type','Accomodation_Type','Response'],axis = 1,inplace = True)\n"
   ]
  },
  {
   "cell_type": "code",
   "execution_count": 17,
   "metadata": {},
   "outputs": [
    {
     "data": {
      "text/plain": [
       "array([ 3., nan,  1.,  4.,  2.])"
      ]
     },
     "execution_count": 17,
     "metadata": {},
     "output_type": "execute_result"
    }
   ],
   "source": [
    "#City_Code : remove c from the column\n",
    "lst2 = df_train['City_Code']\n",
    "city = [int(x[1:]) for x in lst2]\n",
    "#print(city)\n",
    "df_train['City_Code'] = city\n",
    "\n",
    "# Health Indicator:fillna\n",
    "# df_train['Health Indicator'].fillna(\"X0\", inplace = True)\n",
    "lst1 = df_train['Health Indicator']\n",
    "health = [int(x[1:]) if isinstance(x, str) else np.nan for x in lst1 ]\n",
    "df_train['Health Indicator'] = health\n",
    "\n",
    "#Holding_Policy_Duration:label check\n",
    "df_train['Holding_Policy_Duration'] = df_train['Holding_Policy_Duration'].replace(['14+'],'15')\n",
    "# df_train['Holding_Policy_Duration'].fillna(df_train['Holding_Policy_Duration'].median(),inplace = True)\n",
    "lst = df_train['Holding_Policy_Duration']\n",
    "df_train['Holding_Policy_Duration'] = [float(x) for x in lst]\n",
    "\n",
    "#Holding_Policy_Type:label check\n",
    "df_train['Holding_Policy_Type'].unique()\n",
    "# df_train['Holding_Policy_Type'].fillna(0.,inplace = True)"
   ]
  },
  {
   "cell_type": "code",
   "execution_count": 18,
   "metadata": {},
   "outputs": [
    {
     "data": {
      "text/html": [
       "<div>\n",
       "<style scoped>\n",
       "    .dataframe tbody tr th:only-of-type {\n",
       "        vertical-align: middle;\n",
       "    }\n",
       "\n",
       "    .dataframe tbody tr th {\n",
       "        vertical-align: top;\n",
       "    }\n",
       "\n",
       "    .dataframe thead th {\n",
       "        text-align: right;\n",
       "    }\n",
       "</style>\n",
       "<table border=\"1\" class=\"dataframe\">\n",
       "  <thead>\n",
       "    <tr style=\"text-align: right;\">\n",
       "      <th></th>\n",
       "      <th>City_Code</th>\n",
       "      <th>Region_Code</th>\n",
       "      <th>Upper_Age</th>\n",
       "      <th>Health Indicator</th>\n",
       "      <th>Holding_Policy_Duration</th>\n",
       "      <th>Holding_Policy_Type</th>\n",
       "      <th>Reco_Policy_Cat</th>\n",
       "      <th>Reco_Policy_Premium</th>\n",
       "    </tr>\n",
       "  </thead>\n",
       "  <tbody>\n",
       "    <tr>\n",
       "      <th>0</th>\n",
       "      <td>3</td>\n",
       "      <td>3213</td>\n",
       "      <td>36</td>\n",
       "      <td>1.0</td>\n",
       "      <td>15.0</td>\n",
       "      <td>3.0</td>\n",
       "      <td>22</td>\n",
       "      <td>11628.0</td>\n",
       "    </tr>\n",
       "    <tr>\n",
       "      <th>1</th>\n",
       "      <td>5</td>\n",
       "      <td>1117</td>\n",
       "      <td>75</td>\n",
       "      <td>2.0</td>\n",
       "      <td>NaN</td>\n",
       "      <td>NaN</td>\n",
       "      <td>22</td>\n",
       "      <td>30510.0</td>\n",
       "    </tr>\n",
       "    <tr>\n",
       "      <th>2</th>\n",
       "      <td>5</td>\n",
       "      <td>3732</td>\n",
       "      <td>32</td>\n",
       "      <td>NaN</td>\n",
       "      <td>1.0</td>\n",
       "      <td>1.0</td>\n",
       "      <td>19</td>\n",
       "      <td>7450.0</td>\n",
       "    </tr>\n",
       "    <tr>\n",
       "      <th>3</th>\n",
       "      <td>24</td>\n",
       "      <td>4378</td>\n",
       "      <td>52</td>\n",
       "      <td>1.0</td>\n",
       "      <td>15.0</td>\n",
       "      <td>3.0</td>\n",
       "      <td>19</td>\n",
       "      <td>17780.0</td>\n",
       "    </tr>\n",
       "    <tr>\n",
       "      <th>4</th>\n",
       "      <td>8</td>\n",
       "      <td>2190</td>\n",
       "      <td>44</td>\n",
       "      <td>2.0</td>\n",
       "      <td>3.0</td>\n",
       "      <td>1.0</td>\n",
       "      <td>16</td>\n",
       "      <td>10404.0</td>\n",
       "    </tr>\n",
       "  </tbody>\n",
       "</table>\n",
       "</div>"
      ],
      "text/plain": [
       "   City_Code  Region_Code  Upper_Age  Health Indicator  \\\n",
       "0          3         3213         36               1.0   \n",
       "1          5         1117         75               2.0   \n",
       "2          5         3732         32               NaN   \n",
       "3         24         4378         52               1.0   \n",
       "4          8         2190         44               2.0   \n",
       "\n",
       "   Holding_Policy_Duration  Holding_Policy_Type  Reco_Policy_Cat  \\\n",
       "0                     15.0                  3.0               22   \n",
       "1                      NaN                  NaN               22   \n",
       "2                      1.0                  1.0               19   \n",
       "3                     15.0                  3.0               19   \n",
       "4                      3.0                  1.0               16   \n",
       "\n",
       "   Reco_Policy_Premium  \n",
       "0              11628.0  \n",
       "1              30510.0  \n",
       "2               7450.0  \n",
       "3              17780.0  \n",
       "4              10404.0  "
      ]
     },
     "execution_count": 18,
     "metadata": {},
     "output_type": "execute_result"
    }
   ],
   "source": [
    "df_train.head()"
   ]
  },
  {
   "cell_type": "code",
   "execution_count": 19,
   "metadata": {},
   "outputs": [],
   "source": [
    "from sklearn.model_selection import train_test_split\n",
    "X_train, X_test, y_train, y_test = train_test_split(df_train.to_numpy(), y.to_numpy(), test_size = 0.2, random_state = 0)"
   ]
  },
  {
   "cell_type": "code",
   "execution_count": 20,
   "metadata": {},
   "outputs": [
    {
     "data": {
      "text/plain": [
       "(40705, 8)"
      ]
     },
     "execution_count": 20,
     "metadata": {},
     "output_type": "execute_result"
    }
   ],
   "source": [
    "X_train.shape"
   ]
  },
  {
   "cell_type": "code",
   "execution_count": 21,
   "metadata": {},
   "outputs": [
    {
     "data": {
      "text/plain": [
       "array([[1.8000e+01, 9.8000e+02, 4.2000e+01, ..., 1.0000e+00, 2.0000e+00,\n",
       "        1.3530e+04],\n",
       "       [1.9000e+01, 1.8060e+03, 6.8000e+01, ..., 3.0000e+00, 1.0000e+00,\n",
       "        1.5008e+04],\n",
       "       [2.0000e+00, 2.1620e+03, 4.3000e+01, ...,        nan, 3.0000e+00,\n",
       "        1.3524e+04],\n",
       "       ...,\n",
       "       [1.7000e+01, 1.6000e+02, 5.7000e+01, ..., 2.0000e+00, 1.9000e+01,\n",
       "        1.9680e+04],\n",
       "       [1.5000e+01, 2.9140e+03, 6.9000e+01, ..., 3.0000e+00, 1.6000e+01,\n",
       "        2.1148e+04],\n",
       "       [8.0000e+00, 5.5800e+02, 2.3000e+01, ..., 4.0000e+00, 2.2000e+01,\n",
       "        1.0704e+04]])"
      ]
     },
     "execution_count": 21,
     "metadata": {},
     "output_type": "execute_result"
    }
   ],
   "source": [
    "X_test"
   ]
  },
  {
   "cell_type": "code",
   "execution_count": 22,
   "metadata": {},
   "outputs": [],
   "source": [
    "#cols = df_train.columns\n",
    "#use after splitting the data\n",
    "from sklearn.preprocessing import StandardScaler\n",
    "scaler = StandardScaler()\n",
    "X_train = scaler.fit_transform(X_train)\n",
    "#df_train1 = pd.DataFrame(X_train1,columns=cols,index=None)"
   ]
  },
  {
   "cell_type": "code",
   "execution_count": 23,
   "metadata": {},
   "outputs": [
    {
     "name": "stdout",
     "output_type": "stream",
     "text": [
      "[23:15:23] WARNING: C:/Users/Administrator/workspace/xgboost-win64_release_1.3.0/src/learner.cc:1061: Starting in XGBoost 1.3.0, the default evaluation metric used with the objective 'binary:logistic' was changed from 'error' to 'logloss'. Explicitly set eval_metric if you'd like to restore the old behavior.\n"
     ]
    },
    {
     "data": {
      "text/plain": [
       "XGBClassifier(base_score=0.5, booster='gbtree', colsample_bylevel=1,\n",
       "              colsample_bynode=1, colsample_bytree=1, gamma=0, gpu_id=-1,\n",
       "              importance_type='gain', interaction_constraints='',\n",
       "              learning_rate=0.300000012, max_delta_step=0, max_depth=6,\n",
       "              min_child_weight=1, missing=nan, monotone_constraints='()',\n",
       "              n_estimators=100, n_jobs=4, num_parallel_tree=1, random_state=0,\n",
       "              reg_alpha=0, reg_lambda=1, scale_pos_weight=1, subsample=1,\n",
       "              tree_method='exact', use_label_encoder=False,\n",
       "              validate_parameters=1, verbosity=None)"
      ]
     },
     "execution_count": 23,
     "metadata": {},
     "output_type": "execute_result"
    }
   ],
   "source": [
    "from xgboost import XGBClassifier\n",
    "model_xgb = XGBClassifier(use_label_encoder=False)\n",
    " \n",
    "# fit the model with the training data\n",
    "model_xgb.fit(X_train,y_train)"
   ]
  },
  {
   "cell_type": "code",
   "execution_count": 24,
   "metadata": {},
   "outputs": [],
   "source": [
    "y_predict = model_xgb.predict(scaler.transform(X_test))"
   ]
  },
  {
   "cell_type": "code",
   "execution_count": 25,
   "metadata": {},
   "outputs": [],
   "source": [
    "df_val = pd.read_csv('test_YCcRUnU.csv')\n",
    "df_val.drop(['ID','Lower_Age','Is_Spouse','Reco_Insurance_Type','Accomodation_Type'],axis = 1,inplace = True)\n",
    "lst2 = df_val['City_Code']\n",
    "city = [int(x[1:]) for x in lst2]\n",
    "#print(city)\n",
    "df_val['City_Code'] = city\n",
    "\n",
    "df_val['Health Indicator'].fillna(\"X0\", inplace = True)\n",
    "lst1 = df_val['Health Indicator']\n",
    "health = [int(x[1:]) for x in lst1]\n",
    "df_val['Health Indicator'] = health\n",
    "\n",
    "df_val['Holding_Policy_Duration'] = df_val['Holding_Policy_Duration'].replace(['14+'],'15')\n",
    "df_val['Holding_Policy_Duration'].fillna(df_val['Holding_Policy_Duration'].median(),inplace = True)\n",
    "lst = df_val['Holding_Policy_Duration']\n",
    "df_val['Holding_Policy_Duration'] = [float(x) for x in lst]\n",
    "\n",
    "df_val['Holding_Policy_Type'].fillna(0.,inplace = True)"
   ]
  },
  {
   "cell_type": "code",
   "execution_count": 26,
   "metadata": {},
   "outputs": [
    {
     "data": {
      "text/plain": [
       "(21805, 8)"
      ]
     },
     "execution_count": 26,
     "metadata": {},
     "output_type": "execute_result"
    }
   ],
   "source": [
    "df_val.shape"
   ]
  },
  {
   "cell_type": "code",
   "execution_count": 27,
   "metadata": {},
   "outputs": [
    {
     "data": {
      "text/plain": [
       "(21805, 8)"
      ]
     },
     "execution_count": 27,
     "metadata": {},
     "output_type": "execute_result"
    }
   ],
   "source": [
    "scaler.transform(df_val).shape"
   ]
  },
  {
   "cell_type": "code",
   "execution_count": 28,
   "metadata": {},
   "outputs": [],
   "source": [
    "from sklearn.metrics import accuracy_score\n",
    "from sklearn.metrics import confusion_matrix\n",
    "accuracy_test = accuracy_score(y_test,y_predict)\n",
    "accuracy_test\n",
    "from sklearn.metrics import precision_score, recall_score, roc_auc_score\n",
    "from sklearn.model_selection import cross_val_predict"
   ]
  },
  {
   "cell_type": "code",
   "execution_count": 29,
   "metadata": {},
   "outputs": [
    {
     "data": {
      "text/plain": [
       "0.7504176083325145"
      ]
     },
     "execution_count": 29,
     "metadata": {},
     "output_type": "execute_result"
    }
   ],
   "source": [
    "accuracy_test = accuracy_score(y_test,y_predict)\n",
    "accuracy_test"
   ]
  },
  {
   "cell_type": "code",
   "execution_count": 30,
   "metadata": {},
   "outputs": [],
   "source": [
    "predictions = model_xgb.predict_proba(scaler.transform(df_val))[:,1]\n",
    "#print ('ROC AUC Score',roc_auc_score(y_test,predictions))"
   ]
  },
  {
   "cell_type": "code",
   "execution_count": 31,
   "metadata": {},
   "outputs": [
    {
     "data": {
      "text/plain": [
       "(21805,)"
      ]
     },
     "execution_count": 31,
     "metadata": {},
     "output_type": "execute_result"
    }
   ],
   "source": [
    "predictions.shape"
   ]
  },
  {
   "cell_type": "code",
   "execution_count": 32,
   "metadata": {},
   "outputs": [
    {
     "data": {
      "text/html": [
       "<div>\n",
       "<style scoped>\n",
       "    .dataframe tbody tr th:only-of-type {\n",
       "        vertical-align: middle;\n",
       "    }\n",
       "\n",
       "    .dataframe tbody tr th {\n",
       "        vertical-align: top;\n",
       "    }\n",
       "\n",
       "    .dataframe thead th {\n",
       "        text-align: right;\n",
       "    }\n",
       "</style>\n",
       "<table border=\"1\" class=\"dataframe\">\n",
       "  <thead>\n",
       "    <tr style=\"text-align: right;\">\n",
       "      <th></th>\n",
       "    </tr>\n",
       "  </thead>\n",
       "  <tbody>\n",
       "  </tbody>\n",
       "</table>\n",
       "</div>"
      ],
      "text/plain": [
       "Empty DataFrame\n",
       "Columns: []\n",
       "Index: []"
      ]
     },
     "execution_count": 32,
     "metadata": {},
     "output_type": "execute_result"
    }
   ],
   "source": [
    "pd.DataFrame()"
   ]
  },
  {
   "cell_type": "code",
   "execution_count": 33,
   "metadata": {},
   "outputs": [],
   "source": [
    "df = pd.read_csv('sample_submission_QrCyCoT.csv')"
   ]
  },
  {
   "cell_type": "code",
   "execution_count": 34,
   "metadata": {},
   "outputs": [],
   "source": [
    "df['index'] = df.index"
   ]
  },
  {
   "cell_type": "code",
   "execution_count": 35,
   "metadata": {},
   "outputs": [
    {
     "data": {
      "text/html": [
       "<div>\n",
       "<style scoped>\n",
       "    .dataframe tbody tr th:only-of-type {\n",
       "        vertical-align: middle;\n",
       "    }\n",
       "\n",
       "    .dataframe tbody tr th {\n",
       "        vertical-align: top;\n",
       "    }\n",
       "\n",
       "    .dataframe thead th {\n",
       "        text-align: right;\n",
       "    }\n",
       "</style>\n",
       "<table border=\"1\" class=\"dataframe\">\n",
       "  <thead>\n",
       "    <tr style=\"text-align: right;\">\n",
       "      <th></th>\n",
       "      <th>ID</th>\n",
       "      <th>Response</th>\n",
       "      <th>index</th>\n",
       "    </tr>\n",
       "  </thead>\n",
       "  <tbody>\n",
       "    <tr>\n",
       "      <th>0</th>\n",
       "      <td>50883</td>\n",
       "      <td>0</td>\n",
       "      <td>0</td>\n",
       "    </tr>\n",
       "    <tr>\n",
       "      <th>1</th>\n",
       "      <td>50884</td>\n",
       "      <td>0</td>\n",
       "      <td>1</td>\n",
       "    </tr>\n",
       "    <tr>\n",
       "      <th>2</th>\n",
       "      <td>50885</td>\n",
       "      <td>0</td>\n",
       "      <td>2</td>\n",
       "    </tr>\n",
       "    <tr>\n",
       "      <th>3</th>\n",
       "      <td>50886</td>\n",
       "      <td>0</td>\n",
       "      <td>3</td>\n",
       "    </tr>\n",
       "    <tr>\n",
       "      <th>4</th>\n",
       "      <td>50887</td>\n",
       "      <td>0</td>\n",
       "      <td>4</td>\n",
       "    </tr>\n",
       "    <tr>\n",
       "      <th>...</th>\n",
       "      <td>...</td>\n",
       "      <td>...</td>\n",
       "      <td>...</td>\n",
       "    </tr>\n",
       "    <tr>\n",
       "      <th>21800</th>\n",
       "      <td>72683</td>\n",
       "      <td>0</td>\n",
       "      <td>21800</td>\n",
       "    </tr>\n",
       "    <tr>\n",
       "      <th>21801</th>\n",
       "      <td>72684</td>\n",
       "      <td>0</td>\n",
       "      <td>21801</td>\n",
       "    </tr>\n",
       "    <tr>\n",
       "      <th>21802</th>\n",
       "      <td>72685</td>\n",
       "      <td>0</td>\n",
       "      <td>21802</td>\n",
       "    </tr>\n",
       "    <tr>\n",
       "      <th>21803</th>\n",
       "      <td>72686</td>\n",
       "      <td>0</td>\n",
       "      <td>21803</td>\n",
       "    </tr>\n",
       "    <tr>\n",
       "      <th>21804</th>\n",
       "      <td>72687</td>\n",
       "      <td>0</td>\n",
       "      <td>21804</td>\n",
       "    </tr>\n",
       "  </tbody>\n",
       "</table>\n",
       "<p>21805 rows × 3 columns</p>\n",
       "</div>"
      ],
      "text/plain": [
       "          ID  Response  index\n",
       "0      50883         0      0\n",
       "1      50884         0      1\n",
       "2      50885         0      2\n",
       "3      50886         0      3\n",
       "4      50887         0      4\n",
       "...      ...       ...    ...\n",
       "21800  72683         0  21800\n",
       "21801  72684         0  21801\n",
       "21802  72685         0  21802\n",
       "21803  72686         0  21803\n",
       "21804  72687         0  21804\n",
       "\n",
       "[21805 rows x 3 columns]"
      ]
     },
     "execution_count": 35,
     "metadata": {},
     "output_type": "execute_result"
    }
   ],
   "source": [
    "df"
   ]
  },
  {
   "cell_type": "code",
   "execution_count": 36,
   "metadata": {},
   "outputs": [],
   "source": [
    "df11 = pd.DataFrame(predictions,columns=[\"Response_True\"])\n"
   ]
  },
  {
   "cell_type": "code",
   "execution_count": 37,
   "metadata": {},
   "outputs": [],
   "source": [
    "df11['index'] = df11.index"
   ]
  },
  {
   "cell_type": "code",
   "execution_count": 38,
   "metadata": {},
   "outputs": [
    {
     "data": {
      "text/html": [
       "<div>\n",
       "<style scoped>\n",
       "    .dataframe tbody tr th:only-of-type {\n",
       "        vertical-align: middle;\n",
       "    }\n",
       "\n",
       "    .dataframe tbody tr th {\n",
       "        vertical-align: top;\n",
       "    }\n",
       "\n",
       "    .dataframe thead th {\n",
       "        text-align: right;\n",
       "    }\n",
       "</style>\n",
       "<table border=\"1\" class=\"dataframe\">\n",
       "  <thead>\n",
       "    <tr style=\"text-align: right;\">\n",
       "      <th></th>\n",
       "      <th>Response_True</th>\n",
       "      <th>index</th>\n",
       "    </tr>\n",
       "  </thead>\n",
       "  <tbody>\n",
       "    <tr>\n",
       "      <th>0</th>\n",
       "      <td>0.275718</td>\n",
       "      <td>0</td>\n",
       "    </tr>\n",
       "    <tr>\n",
       "      <th>1</th>\n",
       "      <td>0.241006</td>\n",
       "      <td>1</td>\n",
       "    </tr>\n",
       "    <tr>\n",
       "      <th>2</th>\n",
       "      <td>0.415625</td>\n",
       "      <td>2</td>\n",
       "    </tr>\n",
       "    <tr>\n",
       "      <th>3</th>\n",
       "      <td>0.200358</td>\n",
       "      <td>3</td>\n",
       "    </tr>\n",
       "    <tr>\n",
       "      <th>4</th>\n",
       "      <td>0.062591</td>\n",
       "      <td>4</td>\n",
       "    </tr>\n",
       "    <tr>\n",
       "      <th>...</th>\n",
       "      <td>...</td>\n",
       "      <td>...</td>\n",
       "    </tr>\n",
       "    <tr>\n",
       "      <th>21800</th>\n",
       "      <td>0.179927</td>\n",
       "      <td>21800</td>\n",
       "    </tr>\n",
       "    <tr>\n",
       "      <th>21801</th>\n",
       "      <td>0.233590</td>\n",
       "      <td>21801</td>\n",
       "    </tr>\n",
       "    <tr>\n",
       "      <th>21802</th>\n",
       "      <td>0.001176</td>\n",
       "      <td>21802</td>\n",
       "    </tr>\n",
       "    <tr>\n",
       "      <th>21803</th>\n",
       "      <td>0.108771</td>\n",
       "      <td>21803</td>\n",
       "    </tr>\n",
       "    <tr>\n",
       "      <th>21804</th>\n",
       "      <td>0.105508</td>\n",
       "      <td>21804</td>\n",
       "    </tr>\n",
       "  </tbody>\n",
       "</table>\n",
       "<p>21805 rows × 2 columns</p>\n",
       "</div>"
      ],
      "text/plain": [
       "       Response_True  index\n",
       "0           0.275718      0\n",
       "1           0.241006      1\n",
       "2           0.415625      2\n",
       "3           0.200358      3\n",
       "4           0.062591      4\n",
       "...              ...    ...\n",
       "21800       0.179927  21800\n",
       "21801       0.233590  21801\n",
       "21802       0.001176  21802\n",
       "21803       0.108771  21803\n",
       "21804       0.105508  21804\n",
       "\n",
       "[21805 rows x 2 columns]"
      ]
     },
     "execution_count": 38,
     "metadata": {},
     "output_type": "execute_result"
    }
   ],
   "source": [
    "df11"
   ]
  },
  {
   "cell_type": "code",
   "execution_count": 39,
   "metadata": {},
   "outputs": [
    {
     "data": {
      "text/plain": [
       "'The merged DataFrame'"
      ]
     },
     "metadata": {},
     "output_type": "display_data"
    }
   ],
   "source": [
    "display(\"The merged DataFrame\") \n",
    "df_two = pd.merge(df, df11, on = \"index\", how = \"inner\")"
   ]
  },
  {
   "cell_type": "code",
   "execution_count": 40,
   "metadata": {},
   "outputs": [],
   "source": [
    "df_two.drop(['Response','index'],axis = 1,inplace= True)"
   ]
  },
  {
   "cell_type": "code",
   "execution_count": 41,
   "metadata": {},
   "outputs": [],
   "source": [
    "#df_two\n",
    "df_two.rename(columns={'Response_True': 'Response'}, inplace=True)"
   ]
  },
  {
   "cell_type": "code",
   "execution_count": 42,
   "metadata": {},
   "outputs": [],
   "source": [
    "df_two.to_csv('result_3.csv',index=None,header=True)"
   ]
  },
  {
   "cell_type": "code",
   "execution_count": 18,
   "metadata": {},
   "outputs": [],
   "source": [
    "from sklearn.pipeline import make_pipeline\n",
    "from sklearn.preprocessing import StandardScaler\n",
    "from sklearn.model_selection import cross_val_score,cross_val_predict\n",
    "from sklearn.metrics import precision_score, recall_score, roc_auc_score,f1_score"
   ]
  },
  {
   "cell_type": "code",
   "execution_count": 20,
   "metadata": {},
   "outputs": [],
   "source": [
    "def output_model_stats(models, X_train, y_train):\n",
    "    \n",
    "    \"\"\"\n",
    "    paramters: models (dict), X_train (dataframe, array), y_train (dataframe, array)\n",
    "        \n",
    "    Function outputs these metrics:\n",
    "        > 'accuracy',\n",
    "        > 'accuracy_cv_score',\n",
    "        > 'accuracy_cv_stddev',\n",
    "        > 'precision_score',\n",
    "        > 'recall_score',\n",
    "        > 'f1_score',\n",
    "        > 'roc_auc_score (cross_val_score)'\n",
    "    \"\"\"\n",
    "    model_stats = {}\n",
    "    for mname, minst in models.items():\n",
    "        model_scores = []\n",
    "\n",
    "        # create pipeline with scaler and model instantiation steps\n",
    "        model_pipe = make_pipeline(StandardScaler(), minst)\n",
    "\n",
    "        # fit training data and run model score\n",
    "        model_pipe.fit(X_train, y_train)\n",
    "        model_scores.append(model_pipe.score(X_train, y_train))\n",
    "\n",
    "        # implement cross validation model accuracy score\n",
    "        scores = cross_val_score(model_pipe, X_train, y_train, cv=10, scoring='accuracy')\n",
    "        model_scores.append(scores.mean())\n",
    "        model_scores.append(scores.std())\n",
    "\n",
    "        # implement cross validation predictions on training data\n",
    "        y_train_cv_pred = cross_val_predict(model_pipe, X_train, y_train, cv=10)\n",
    "\n",
    "        # calculate precision and recall\n",
    "        p = precision_score(y_train, y_train_cv_pred)\n",
    "        r = recall_score(y_train, y_train_cv_pred)\n",
    "        model_scores.append(p)\n",
    "        model_scores.append(r)\n",
    "\n",
    "        # calculate F1 score\n",
    "        f1_scor = f1_score(y_train, y_train_cv_pred, average=None)\n",
    "        #f1_score = 2*(p*r)/(p+r)\n",
    "        model_scores.append(f1_scor)\n",
    "\n",
    "        # calculate ROC AUC score using cross_val_score\n",
    "        roc_auc_cvs = cross_val_score(model_pipe, X_train, y_train, cv=10, scoring='roc_auc').mean()\n",
    "        model_scores.append(roc_auc_cvs)\n",
    "\n",
    "        # create dictionary key/pair value\n",
    "        model_stats[mname] = model_scores\n",
    "    \n",
    "    colnames = ['accuracy','accuracy_cv_score','accuracy_cv_stddev',\n",
    "                'precision_score','recall_score','f1_scor',\n",
    "                'roc_auc_score (cross_val_score)']\n",
    "\n",
    "    # put model stats into a dataframe\n",
    "    df_model_stats = pd.DataFrame.from_dict(model_stats, orient='index', columns=colnames)\n",
    "    df_model_stats_ranked = df_model_stats.sort_values(by='accuracy', ascending=False)\n",
    "\n",
    "    # output is a dataframe\n",
    "    \n",
    "    return(df_model_stats_ranked)"
   ]
  },
  {
   "cell_type": "code",
   "execution_count": 21,
   "metadata": {},
   "outputs": [],
   "source": [
    "from sklearn.linear_model import LogisticRegression\n",
    "from sklearn.ensemble import RandomForestClassifier\n",
    "from sklearn.linear_model import Perceptron\n",
    "from sklearn.linear_model import SGDClassifier\n",
    "from sklearn.tree import DecisionTreeClassifier\n",
    "from sklearn.neighbors import KNeighborsClassifier\n",
    "from sklearn.svm import SVC, LinearSVC\n",
    "from sklearn.naive_bayes import GaussianNB"
   ]
  },
  {
   "cell_type": "code",
   "execution_count": 40,
   "metadata": {},
   "outputs": [],
   "source": [
    "from sklearn.inspection import permutation_importance"
   ]
  },
  {
   "cell_type": "code",
   "execution_count": 22,
   "metadata": {},
   "outputs": [
    {
     "name": "stderr",
     "output_type": "stream",
     "text": [
      "C:\\ProgramData\\Anaconda3\\lib\\site-packages\\sklearn\\metrics\\_classification.py:1221: UndefinedMetricWarning: Precision is ill-defined and being set to 0.0 due to no predicted samples. Use `zero_division` parameter to control this behavior.\n",
      "  _warn_prf(average, modifier, msg_start, len(result))\n",
      "C:\\ProgramData\\Anaconda3\\lib\\site-packages\\sklearn\\metrics\\_classification.py:1221: UndefinedMetricWarning: Precision is ill-defined and being set to 0.0 due to no predicted samples. Use `zero_division` parameter to control this behavior.\n",
      "  _warn_prf(average, modifier, msg_start, len(result))\n",
      "C:\\ProgramData\\Anaconda3\\lib\\site-packages\\sklearn\\metrics\\_classification.py:1221: UndefinedMetricWarning: Precision is ill-defined and being set to 0.0 due to no predicted samples. Use `zero_division` parameter to control this behavior.\n",
      "  _warn_prf(average, modifier, msg_start, len(result))\n",
      "C:\\ProgramData\\Anaconda3\\lib\\site-packages\\sklearn\\metrics\\_classification.py:1221: UndefinedMetricWarning: Precision is ill-defined and being set to 0.0 due to no predicted samples. Use `zero_division` parameter to control this behavior.\n",
      "  _warn_prf(average, modifier, msg_start, len(result))\n",
      "C:\\ProgramData\\Anaconda3\\lib\\site-packages\\sklearn\\metrics\\_classification.py:1221: UndefinedMetricWarning: Precision is ill-defined and being set to 0.0 due to no predicted samples. Use `zero_division` parameter to control this behavior.\n",
      "  _warn_prf(average, modifier, msg_start, len(result))\n"
     ]
    },
    {
     "data": {
      "text/html": [
       "<div>\n",
       "<style scoped>\n",
       "    .dataframe tbody tr th:only-of-type {\n",
       "        vertical-align: middle;\n",
       "    }\n",
       "\n",
       "    .dataframe tbody tr th {\n",
       "        vertical-align: top;\n",
       "    }\n",
       "\n",
       "    .dataframe thead th {\n",
       "        text-align: right;\n",
       "    }\n",
       "</style>\n",
       "<table border=\"1\" class=\"dataframe\">\n",
       "  <thead>\n",
       "    <tr style=\"text-align: right;\">\n",
       "      <th></th>\n",
       "      <th>accuracy</th>\n",
       "      <th>accuracy_cv_score</th>\n",
       "      <th>accuracy_cv_stddev</th>\n",
       "      <th>precision_score</th>\n",
       "      <th>recall_score</th>\n",
       "      <th>f1_scor</th>\n",
       "      <th>roc_auc_score (cross_val_score)</th>\n",
       "    </tr>\n",
       "  </thead>\n",
       "  <tbody>\n",
       "    <tr>\n",
       "      <th>RandomForest</th>\n",
       "      <td>1.000000</td>\n",
       "      <td>0.758605</td>\n",
       "      <td>0.001994</td>\n",
       "      <td>0.419240</td>\n",
       "      <td>0.036429</td>\n",
       "      <td>[0.8613674200739299, 0.0670338017470566]</td>\n",
       "      <td>0.632658</td>\n",
       "    </tr>\n",
       "    <tr>\n",
       "      <th>DecisionTree</th>\n",
       "      <td>1.000000</td>\n",
       "      <td>0.669303</td>\n",
       "      <td>0.005910</td>\n",
       "      <td>0.314255</td>\n",
       "      <td>0.329205</td>\n",
       "      <td>[0.7813672465039224, 0.32155637316667507]</td>\n",
       "      <td>0.552383</td>\n",
       "    </tr>\n",
       "    <tr>\n",
       "      <th>KNN</th>\n",
       "      <td>0.792654</td>\n",
       "      <td>0.715391</td>\n",
       "      <td>0.004396</td>\n",
       "      <td>0.268281</td>\n",
       "      <td>0.113209</td>\n",
       "      <td>[0.828702813798406, 0.15922781043617099]</td>\n",
       "      <td>0.535274</td>\n",
       "    </tr>\n",
       "    <tr>\n",
       "      <th>LogisticRegression</th>\n",
       "      <td>0.761946</td>\n",
       "      <td>0.761946</td>\n",
       "      <td>0.000029</td>\n",
       "      <td>0.000000</td>\n",
       "      <td>0.000000</td>\n",
       "      <td>[0.8648912437255996, 0.0]</td>\n",
       "      <td>0.563137</td>\n",
       "    </tr>\n",
       "    <tr>\n",
       "      <th>SupportVectorMachines</th>\n",
       "      <td>0.761946</td>\n",
       "      <td>0.761946</td>\n",
       "      <td>0.000029</td>\n",
       "      <td>0.000000</td>\n",
       "      <td>0.000000</td>\n",
       "      <td>[0.8648912437255996, 0.0]</td>\n",
       "      <td>0.538988</td>\n",
       "    </tr>\n",
       "    <tr>\n",
       "      <th>GaussianNaiveBayes</th>\n",
       "      <td>0.761946</td>\n",
       "      <td>0.761946</td>\n",
       "      <td>0.000029</td>\n",
       "      <td>0.000000</td>\n",
       "      <td>0.000000</td>\n",
       "      <td>[0.8648912437255996, 0.0]</td>\n",
       "      <td>0.554329</td>\n",
       "    </tr>\n",
       "    <tr>\n",
       "      <th>LinearSVC</th>\n",
       "      <td>0.761946</td>\n",
       "      <td>0.761946</td>\n",
       "      <td>0.000029</td>\n",
       "      <td>0.000000</td>\n",
       "      <td>0.000000</td>\n",
       "      <td>[0.8648912437255996, 0.0]</td>\n",
       "      <td>0.563052</td>\n",
       "    </tr>\n",
       "    <tr>\n",
       "      <th>StochasticGradientDescent</th>\n",
       "      <td>0.761946</td>\n",
       "      <td>0.761946</td>\n",
       "      <td>0.000029</td>\n",
       "      <td>0.000000</td>\n",
       "      <td>0.000000</td>\n",
       "      <td>[0.8648912437255996, 0.0]</td>\n",
       "      <td>0.534916</td>\n",
       "    </tr>\n",
       "    <tr>\n",
       "      <th>Perceptron</th>\n",
       "      <td>0.527380</td>\n",
       "      <td>0.647436</td>\n",
       "      <td>0.058203</td>\n",
       "      <td>0.248733</td>\n",
       "      <td>0.238080</td>\n",
       "      <td>[0.7701817599487548, 0.24329027155286054]</td>\n",
       "      <td>0.517581</td>\n",
       "    </tr>\n",
       "  </tbody>\n",
       "</table>\n",
       "</div>"
      ],
      "text/plain": [
       "                           accuracy  accuracy_cv_score  accuracy_cv_stddev  \\\n",
       "RandomForest               1.000000           0.758605            0.001994   \n",
       "DecisionTree               1.000000           0.669303            0.005910   \n",
       "KNN                        0.792654           0.715391            0.004396   \n",
       "LogisticRegression         0.761946           0.761946            0.000029   \n",
       "SupportVectorMachines      0.761946           0.761946            0.000029   \n",
       "GaussianNaiveBayes         0.761946           0.761946            0.000029   \n",
       "LinearSVC                  0.761946           0.761946            0.000029   \n",
       "StochasticGradientDescent  0.761946           0.761946            0.000029   \n",
       "Perceptron                 0.527380           0.647436            0.058203   \n",
       "\n",
       "                           precision_score  recall_score  \\\n",
       "RandomForest                      0.419240      0.036429   \n",
       "DecisionTree                      0.314255      0.329205   \n",
       "KNN                               0.268281      0.113209   \n",
       "LogisticRegression                0.000000      0.000000   \n",
       "SupportVectorMachines             0.000000      0.000000   \n",
       "GaussianNaiveBayes                0.000000      0.000000   \n",
       "LinearSVC                         0.000000      0.000000   \n",
       "StochasticGradientDescent         0.000000      0.000000   \n",
       "Perceptron                        0.248733      0.238080   \n",
       "\n",
       "                                                             f1_scor  \\\n",
       "RandomForest                [0.8613674200739299, 0.0670338017470566]   \n",
       "DecisionTree               [0.7813672465039224, 0.32155637316667507]   \n",
       "KNN                         [0.828702813798406, 0.15922781043617099]   \n",
       "LogisticRegression                         [0.8648912437255996, 0.0]   \n",
       "SupportVectorMachines                      [0.8648912437255996, 0.0]   \n",
       "GaussianNaiveBayes                         [0.8648912437255996, 0.0]   \n",
       "LinearSVC                                  [0.8648912437255996, 0.0]   \n",
       "StochasticGradientDescent                  [0.8648912437255996, 0.0]   \n",
       "Perceptron                 [0.7701817599487548, 0.24329027155286054]   \n",
       "\n",
       "                           roc_auc_score (cross_val_score)  \n",
       "RandomForest                                      0.632658  \n",
       "DecisionTree                                      0.552383  \n",
       "KNN                                               0.535274  \n",
       "LogisticRegression                                0.563137  \n",
       "SupportVectorMachines                             0.538988  \n",
       "GaussianNaiveBayes                                0.554329  \n",
       "LinearSVC                                         0.563052  \n",
       "StochasticGradientDescent                         0.534916  \n",
       "Perceptron                                        0.517581  "
      ]
     },
     "execution_count": 22,
     "metadata": {},
     "output_type": "execute_result"
    }
   ],
   "source": [
    "# random_state=0 for reproducibility; create dictionary for function parameter\n",
    "models = {'LogisticRegression': LogisticRegression(random_state=0),\n",
    "          'SupportVectorMachines': SVC(random_state=0),\n",
    "          'RandomForest': RandomForestClassifier(random_state=0),\n",
    "          'KNN': KNeighborsClassifier(n_neighbors=5),\n",
    "          'GaussianNaiveBayes': GaussianNB(),\n",
    "          'Perceptron': Perceptron(random_state=0),\n",
    "          'LinearSVC': LinearSVC(dual=False, random_state=0),\n",
    "          'StochasticGradientDescent': SGDClassifier(random_state=0),\n",
    "          'DecisionTree': DecisionTreeClassifier(random_state=0)}\n",
    "\n",
    "# use helper function (output_model_stats) to generate all performance and model diagnostic metrics\n",
    "df_all_models = output_model_stats(models, X_train, y_train)\n",
    "\n",
    "# output dataframe\n",
    "df_all_models"
   ]
  },
  {
   "cell_type": "code",
   "execution_count": 36,
   "metadata": {},
   "outputs": [],
   "source": [
    "def rf_feature_ranking(n, feature_importance_scores):\n",
    "    \"\"\"\n",
    "    n (parameter 1): an integer; number of features in X_train\n",
    "    feature_importance_scores (parameter 2): numpy ndarray from sklearn.ensemble.RandomForestClassifier.feature_importances_\n",
    "    \"\"\"\n",
    "    \n",
    "    feature_importances = {}\n",
    "    for idx in range(n):\n",
    "        key = df_train1.columns[idx]\n",
    "        val = feature_importance_scores[idx]\n",
    "        feature_importances[key] = val\n",
    "\n",
    "    df_feature_importances = pd.DataFrame.from_dict(feature_importances, orient='index', columns=['importance'])\n",
    "    df_sorted = df_feature_importances.sort_values('importance', ascending=False)\n",
    "    \n",
    "    return df_sorted"
   ]
  },
  {
   "cell_type": "code",
   "execution_count": 44,
   "metadata": {},
   "outputs": [],
   "source": [
    "df_train1 = pd.DataFrame(X_train,columns=df_train.columns,index=None)\n",
    "df_y = pd.DataFrame(y_train,columns=['Response'],index = None)"
   ]
  },
  {
   "cell_type": "code",
   "execution_count": 45,
   "metadata": {},
   "outputs": [
    {
     "name": "stderr",
     "output_type": "stream",
     "text": [
      "<ipython-input-45-9909f311485a>:2: DataConversionWarning: A column-vector y was passed when a 1d array was expected. Please change the shape of y to (n_samples,), for example using ravel().\n",
      "  rf_base.fit(df_train1, df_y)\n"
     ]
    },
    {
     "data": {
      "text/html": [
       "<div>\n",
       "<style scoped>\n",
       "    .dataframe tbody tr th:only-of-type {\n",
       "        vertical-align: middle;\n",
       "    }\n",
       "\n",
       "    .dataframe tbody tr th {\n",
       "        vertical-align: top;\n",
       "    }\n",
       "\n",
       "    .dataframe thead th {\n",
       "        text-align: right;\n",
       "    }\n",
       "</style>\n",
       "<table border=\"1\" class=\"dataframe\">\n",
       "  <thead>\n",
       "    <tr style=\"text-align: right;\">\n",
       "      <th></th>\n",
       "      <th>importance</th>\n",
       "    </tr>\n",
       "  </thead>\n",
       "  <tbody>\n",
       "    <tr>\n",
       "      <th>Region_Code</th>\n",
       "      <td>0.221243</td>\n",
       "    </tr>\n",
       "    <tr>\n",
       "      <th>Reco_Policy_Premium</th>\n",
       "      <td>0.220814</td>\n",
       "    </tr>\n",
       "    <tr>\n",
       "      <th>Upper_Age</th>\n",
       "      <td>0.152845</td>\n",
       "    </tr>\n",
       "    <tr>\n",
       "      <th>Reco_Policy_Cat</th>\n",
       "      <td>0.113941</td>\n",
       "    </tr>\n",
       "    <tr>\n",
       "      <th>City_Code</th>\n",
       "      <td>0.108496</td>\n",
       "    </tr>\n",
       "    <tr>\n",
       "      <th>Health Indicator</th>\n",
       "      <td>0.078061</td>\n",
       "    </tr>\n",
       "    <tr>\n",
       "      <th>Holding_Policy_Duration</th>\n",
       "      <td>0.062727</td>\n",
       "    </tr>\n",
       "    <tr>\n",
       "      <th>Holding_Policy_Type</th>\n",
       "      <td>0.041873</td>\n",
       "    </tr>\n",
       "  </tbody>\n",
       "</table>\n",
       "</div>"
      ],
      "text/plain": [
       "                         importance\n",
       "Region_Code                0.221243\n",
       "Reco_Policy_Premium        0.220814\n",
       "Upper_Age                  0.152845\n",
       "Reco_Policy_Cat            0.113941\n",
       "City_Code                  0.108496\n",
       "Health Indicator           0.078061\n",
       "Holding_Policy_Duration    0.062727\n",
       "Holding_Policy_Type        0.041873"
      ]
     },
     "execution_count": 45,
     "metadata": {},
     "output_type": "execute_result"
    }
   ],
   "source": [
    "rf_base = RandomForestClassifier(n_estimators=100, random_state=0)\n",
    "rf_base.fit(df_train1, df_y)\n",
    "n = len(X_train_rf.columns)\n",
    "importance_scores = rf_base.feature_importances_\n",
    "rf_feature_ranking(n, importance_scores)"
   ]
  },
  {
   "cell_type": "code",
   "execution_count": null,
   "metadata": {},
   "outputs": [],
   "source": [
    "# remove health policy type"
   ]
  },
  {
   "cell_type": "code",
   "execution_count": 46,
   "metadata": {},
   "outputs": [
    {
     "name": "stderr",
     "output_type": "stream",
     "text": [
      "<ipython-input-46-d5b805b7e5c3>:2: DataConversionWarning: A column-vector y was passed when a 1d array was expected. Please change the shape of y to (n_samples,), for example using ravel().\n",
      "  clf.fit(df_train1, df_y)\n",
      "<ipython-input-46-d5b805b7e5c3>:12: UserWarning: FixedFormatter should only be used together with FixedLocator\n",
      "  ax1.set_yticklabels(df_train1.columns[tree_importance_sorted_idx])\n"
     ]
    },
    {
     "data": {
      "image/png": "[encoded data removed]",
      "text/plain": [
       "<Figure size 1440x720 with 2 Axes>"
      ]
     },
     "metadata": {
      "needs_background": "light"
     },
     "output_type": "display_data"
    }
   ],
   "source": [
    "clf = RandomForestClassifier(n_estimators=100, random_state=0)\n",
    "clf.fit(df_train1, df_y)\n",
    "\n",
    "result = permutation_importance(clf, df_train1, df_y, n_repeats=10, random_state=0)\n",
    "perm_sorted_idx = result.importances_mean.argsort()\n",
    "\n",
    "tree_importance_sorted_idx = np.argsort(clf.feature_importances_)\n",
    "tree_indices = np.arange(0, len(clf.feature_importances_)) + 0.5\n",
    "\n",
    "fig, (ax1, ax2) = plt.subplots(1, 2, figsize=(20,10))\n",
    "ax1.barh(tree_indices, clf.feature_importances_[tree_importance_sorted_idx], height=0.7)\n",
    "ax1.set_yticklabels(df_train1.columns[tree_importance_sorted_idx])\n",
    "ax1.set_yticks(tree_indices)\n",
    "ax1.set_ylim((0, len(clf.feature_importances_)))\n",
    "ax1.tick_params(labelsize=20)\n",
    "ax1.set_title('Feature Importance', fontsize=25)\n",
    "\n",
    "ax2.boxplot(result.importances[perm_sorted_idx].T, vert=False,\n",
    "            labels=df_train1.columns[perm_sorted_idx])\n",
    "ax2.set_title('Permutation Importance', fontsize=25)\n",
    "ax2.tick_params(labelsize=20)\n",
    "\n",
    "fig.tight_layout()\n",
    "plt.show()"
   ]
  },
  {
   "cell_type": "code",
   "execution_count": 49,
   "metadata": {},
   "outputs": [],
   "source": [
    "from scipy.stats import spearmanr\n",
    "from scipy.cluster import hierarchy"
   ]
  },
  {
   "cell_type": "code",
   "execution_count": 50,
   "metadata": {},
   "outputs": [
    {
     "data": {
      "image/png": "[encoded data removed]",
      "text/plain": [
       "<Figure size 864x576 with 2 Axes>"
      ]
     },
     "metadata": {
      "needs_background": "light"
     },
     "output_type": "display_data"
    }
   ],
   "source": [
    "fig, (ax1, ax2) = plt.subplots(1, 2, figsize=(12, 8))\n",
    "corr = spearmanr(df_train1).correlation\n",
    "corr_linkage = hierarchy.ward(corr)\n",
    "dendro = hierarchy.dendrogram(corr_linkage, labels=df_train1.columns, ax=ax1, leaf_rotation=90)\n",
    "dendro_idx = np.arange(0, len(dendro['ivl']))\n",
    "ax1.set_title('Dendrogram: Hierarchical Clustering')\n",
    "\n",
    "ax2.imshow(corr[dendro['leaves'], :][:, dendro['leaves']])\n",
    "ax2.set_xticks(dendro_idx)\n",
    "ax2.set_yticks(dendro_idx)\n",
    "ax2.set_xticklabels(dendro['ivl'], rotation='vertical')\n",
    "ax2.set_yticklabels(dendro['ivl'])\n",
    "ax2.set_title(\"Spearman's Correlation Matrix\")\n",
    "fig.tight_layout()\n",
    "plt.show()"
   ]
  }
 ],
 "metadata": {
  "kernelspec": {
   "display_name": "Python 3",
   "language": "python",
   "name": "python3"
  },
  "language_info": {
   "codemirror_mode": {
    "name": "ipython",
    "version": 3
   },
   "file_extension": ".py",
   "mimetype": "text/x-python",
   "name": "python",
   "nbconvert_exporter": "python",
   "pygments_lexer": "ipython3",
   "version": "3.7.6"
  }
 },
 "nbformat": 4,
 "nbformat_minor": 4
}
